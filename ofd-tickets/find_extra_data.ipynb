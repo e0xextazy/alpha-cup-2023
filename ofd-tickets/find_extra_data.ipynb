{
 "cells": [
  {
   "cell_type": "code",
   "execution_count": 4,
   "id": "84fe6a13-b2c1-4591-a4c9-4aa309786387",
   "metadata": {},
   "outputs": [],
   "source": [
    "import pandas as pd\n",
    "import numpy as np"
   ]
  },
  {
   "cell_type": "code",
   "execution_count": 5,
   "id": "a0bd153c-ef15-40c6-9ba2-e28af10ad07a",
   "metadata": {},
   "outputs": [],
   "source": [
    "super_df = pd.read_csv(\"train_supervised_dataset.csv\")\n",
    "\n",
    "super_df.good = super_df.good.replace(\"лента.\", \"лента\")\n",
    "super_df.good = super_df.good.replace(\"товара нет\", np.nan)\n",
    "super_df.good = super_df.good.replace(\"т,а,б,л,е,т,к,и\", \"таблетки\")\n",
    "super_df.good = super_df.good.replace('автокормушка\", \"автопоилка', \"автокормушка,автопоилка\")\n",
    "\n",
    "unsuper_df = pd.read_csv(\"train_unsupervised_dataset.csv\")\n",
    "test_df = pd.read_csv(\"test_dataset.csv\")"
   ]
  },
  {
   "cell_type": "code",
   "execution_count": 11,
   "id": "faede691-3d34-4e4c-9d68-f033e2f7bb55",
   "metadata": {},
   "outputs": [],
   "source": [
    "unique_goods = set(super_df[~super_df.good.isna()].good.unique().tolist())\n",
    "unique_brands = set(super_df[~super_df.brand.isna()].brand.unique().tolist())"
   ]
  },
  {
   "cell_type": "code",
   "execution_count": 13,
   "id": "1e0c7956-81d8-46c6-8d04-5b5a65ade273",
   "metadata": {},
   "outputs": [
    {
     "data": {
      "text/html": [
       "<div>\n",
       "<style scoped>\n",
       "    .dataframe tbody tr th:only-of-type {\n",
       "        vertical-align: middle;\n",
       "    }\n",
       "\n",
       "    .dataframe tbody tr th {\n",
       "        vertical-align: top;\n",
       "    }\n",
       "\n",
       "    .dataframe thead th {\n",
       "        text-align: right;\n",
       "    }\n",
       "</style>\n",
       "<table border=\"1\" class=\"dataframe\">\n",
       "  <thead>\n",
       "    <tr style=\"text-align: right;\">\n",
       "      <th></th>\n",
       "      <th>id</th>\n",
       "      <th>name</th>\n",
       "      <th>tokens</th>\n",
       "    </tr>\n",
       "  </thead>\n",
       "  <tbody>\n",
       "    <tr>\n",
       "      <th>0</th>\n",
       "      <td>0</td>\n",
       "      <td>Зубная щетка Орал Би Три эффект Деликатное отб...</td>\n",
       "      <td>[зубная, щетка, орал, би, три, эффект, деликат...</td>\n",
       "    </tr>\n",
       "    <tr>\n",
       "      <th>1</th>\n",
       "      <td>1</td>\n",
       "      <td>салфетки VISTER влажные для ко</td>\n",
       "      <td>[салфетки, vister, влажные, для, ко]</td>\n",
       "    </tr>\n",
       "    <tr>\n",
       "      <th>2</th>\n",
       "      <td>2</td>\n",
       "      <td>Платье женское DR8517K 7Л8999 Светло-серый 449...</td>\n",
       "      <td>[платье, женское, dr8517k, 7л8999, светло-серы...</td>\n",
       "    </tr>\n",
       "    <tr>\n",
       "      <th>3</th>\n",
       "      <td>3</td>\n",
       "      <td>ЛАКОМСТВО \"ДЕРЕВЕНСКИЕ ЛАКОМСТВА\" д/собак мини...</td>\n",
       "      <td>[лакомство, \"деревенские, лакомства\", д/собак,...</td>\n",
       "    </tr>\n",
       "    <tr>\n",
       "      <th>4</th>\n",
       "      <td>4</td>\n",
       "      <td>Суппорт гитарный Ergo Play Troster</td>\n",
       "      <td>[суппорт, гитарный, ergo, play, troster]</td>\n",
       "    </tr>\n",
       "  </tbody>\n",
       "</table>\n",
       "</div>"
      ],
      "text/plain": [
       "   id                                               name  \\\n",
       "0   0  Зубная щетка Орал Би Три эффект Деликатное отб...   \n",
       "1   1                     салфетки VISTER влажные для ко   \n",
       "2   2  Платье женское DR8517K 7Л8999 Светло-серый 449...   \n",
       "3   3  ЛАКОМСТВО \"ДЕРЕВЕНСКИЕ ЛАКОМСТВА\" д/собак мини...   \n",
       "4   4                 Суппорт гитарный Ergo Play Troster   \n",
       "\n",
       "                                              tokens  \n",
       "0  [зубная, щетка, орал, би, три, эффект, деликат...  \n",
       "1               [салфетки, vister, влажные, для, ко]  \n",
       "2  [платье, женское, dr8517k, 7л8999, светло-серы...  \n",
       "3  [лакомство, \"деревенские, лакомства\", д/собак,...  \n",
       "4           [суппорт, гитарный, ergo, play, troster]  "
      ]
     },
     "execution_count": 13,
     "metadata": {},
     "output_type": "execute_result"
    }
   ],
   "source": [
    "unsuper_df[\"tokens\"] = unsuper_df[\"name\"].apply(lambda x: x.lower().split())\n",
    "test_df[\"tokens\"] = test_df[\"name\"].apply(lambda x: x.lower().split())"
   ]
  },
  {
   "cell_type": "code",
   "execution_count": 15,
   "id": "0edfda73-abcd-415d-b5ae-ca6fb12aa41f",
   "metadata": {},
   "outputs": [],
   "source": [
    "def find_ent(tokens, entities):\n",
    "    for token in tokens:\n",
    "        if token in entities:\n",
    "            return token\n",
    "    return np.nan"
   ]
  },
  {
   "cell_type": "code",
   "execution_count": 17,
   "id": "42b744d7-99ae-48a3-91dd-9005da7bbfa9",
   "metadata": {},
   "outputs": [
    {
     "data": {
      "text/html": [
       "<div>\n",
       "<style scoped>\n",
       "    .dataframe tbody tr th:only-of-type {\n",
       "        vertical-align: middle;\n",
       "    }\n",
       "\n",
       "    .dataframe tbody tr th {\n",
       "        vertical-align: top;\n",
       "    }\n",
       "\n",
       "    .dataframe thead th {\n",
       "        text-align: right;\n",
       "    }\n",
       "</style>\n",
       "<table border=\"1\" class=\"dataframe\">\n",
       "  <thead>\n",
       "    <tr style=\"text-align: right;\">\n",
       "      <th></th>\n",
       "      <th>id</th>\n",
       "      <th>name</th>\n",
       "      <th>tokens</th>\n",
       "      <th>good</th>\n",
       "      <th>brand</th>\n",
       "    </tr>\n",
       "  </thead>\n",
       "  <tbody>\n",
       "    <tr>\n",
       "      <th>0</th>\n",
       "      <td>0</td>\n",
       "      <td>Зубная щетка Орал Би Три эффект Деликатное отб...</td>\n",
       "      <td>[зубная, щетка, орал, би, три, эффект, деликат...</td>\n",
       "      <td>щетка</td>\n",
       "      <td>NaN</td>\n",
       "    </tr>\n",
       "    <tr>\n",
       "      <th>1</th>\n",
       "      <td>1</td>\n",
       "      <td>салфетки VISTER влажные для ко</td>\n",
       "      <td>[салфетки, vister, влажные, для, ко]</td>\n",
       "      <td>салфетки</td>\n",
       "      <td>NaN</td>\n",
       "    </tr>\n",
       "    <tr>\n",
       "      <th>2</th>\n",
       "      <td>2</td>\n",
       "      <td>Платье женское DR8517K 7Л8999 Светло-серый 449...</td>\n",
       "      <td>[платье, женское, dr8517k, 7л8999, светло-серы...</td>\n",
       "      <td>платье</td>\n",
       "      <td>NaN</td>\n",
       "    </tr>\n",
       "    <tr>\n",
       "      <th>3</th>\n",
       "      <td>3</td>\n",
       "      <td>ЛАКОМСТВО \"ДЕРЕВЕНСКИЕ ЛАКОМСТВА\" д/собак мини...</td>\n",
       "      <td>[лакомство, \"деревенские, лакомства\", д/собак,...</td>\n",
       "      <td>лакомство</td>\n",
       "      <td>NaN</td>\n",
       "    </tr>\n",
       "    <tr>\n",
       "      <th>4</th>\n",
       "      <td>4</td>\n",
       "      <td>Суппорт гитарный Ergo Play Troster</td>\n",
       "      <td>[суппорт, гитарный, ergo, play, troster]</td>\n",
       "      <td>NaN</td>\n",
       "      <td>ergo</td>\n",
       "    </tr>\n",
       "  </tbody>\n",
       "</table>\n",
       "</div>"
      ],
      "text/plain": [
       "   id                                               name  \\\n",
       "0   0  Зубная щетка Орал Би Три эффект Деликатное отб...   \n",
       "1   1                     салфетки VISTER влажные для ко   \n",
       "2   2  Платье женское DR8517K 7Л8999 Светло-серый 449...   \n",
       "3   3  ЛАКОМСТВО \"ДЕРЕВЕНСКИЕ ЛАКОМСТВА\" д/собак мини...   \n",
       "4   4                 Суппорт гитарный Ergo Play Troster   \n",
       "\n",
       "                                              tokens       good brand  \n",
       "0  [зубная, щетка, орал, би, три, эффект, деликат...      щетка   NaN  \n",
       "1               [салфетки, vister, влажные, для, ко]   салфетки   NaN  \n",
       "2  [платье, женское, dr8517k, 7л8999, светло-серы...     платье   NaN  \n",
       "3  [лакомство, \"деревенские, лакомства\", д/собак,...  лакомство   NaN  \n",
       "4           [суппорт, гитарный, ergo, play, troster]        NaN  ergo  "
      ]
     },
     "execution_count": 17,
     "metadata": {},
     "output_type": "execute_result"
    }
   ],
   "source": [
    "unsuper_df[\"good\"] = unsuper_df.tokens.apply(lambda x: find_ent(x, unique_goods))\n",
    "unsuper_df[\"brand\"] = unsuper_df.tokens.apply(lambda x: find_ent(x, unique_brands))\n",
    "unsuper_df.head()"
   ]
  },
  {
   "cell_type": "code",
   "execution_count": null,
   "id": "f087c846-da53-4425-94f0-d9e3879282ed",
   "metadata": {},
   "outputs": [],
   "source": [
    "test_df[\"good\"] = test_df.tokens.apply(lambda x: find_ent(x, unique_goods))\n",
    "test_df[\"brand\"] = test_df.tokens.apply(lambda x: find_ent(x, unique_brands))\n",
    "test_df.head()"
   ]
  }
 ],
 "metadata": {
  "kernelspec": {
   "display_name": "Python 3 (ipykernel)",
   "language": "python",
   "name": "python3"
  },
  "language_info": {
   "codemirror_mode": {
    "name": "ipython",
    "version": 3
   },
   "file_extension": ".py",
   "mimetype": "text/x-python",
   "name": "python",
   "nbconvert_exporter": "python",
   "pygments_lexer": "ipython3",
   "version": "3.10.6"
  }
 },
 "nbformat": 4,
 "nbformat_minor": 5
}
